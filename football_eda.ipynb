{
 "cells": [
  {
   "cell_type": "code",
   "execution_count": 1,
   "metadata": {},
   "outputs": [],
   "source": [
    "#importing libraries\n",
    "import numpy as np\n",
    "import pandas as pd\n",
    "import matplotlib.pyplot as plt"
   ]
  },
  {
   "cell_type": "code",
   "execution_count": 4,
   "metadata": {},
   "outputs": [],
   "source": [
    "#read dataset\n",
    "df=pd.read_csv(\"top250_football.csv\")"
   ]
  },
  {
   "cell_type": "code",
   "execution_count": 8,
   "metadata": {},
   "outputs": [
    {
     "data": {
      "text/html": [
       "<div>\n",
       "<style scoped>\n",
       "    .dataframe tbody tr th:only-of-type {\n",
       "        vertical-align: middle;\n",
       "    }\n",
       "\n",
       "    .dataframe tbody tr th {\n",
       "        vertical-align: top;\n",
       "    }\n",
       "\n",
       "    .dataframe thead th {\n",
       "        text-align: right;\n",
       "    }\n",
       "</style>\n",
       "<table border=\"1\" class=\"dataframe\">\n",
       "  <thead>\n",
       "    <tr style=\"text-align: right;\">\n",
       "      <th></th>\n",
       "      <th>Name</th>\n",
       "      <th>Position</th>\n",
       "      <th>Age</th>\n",
       "      <th>Team_from</th>\n",
       "      <th>League_from</th>\n",
       "      <th>Team_to</th>\n",
       "      <th>League_to</th>\n",
       "      <th>Season</th>\n",
       "      <th>Transfer_fee</th>\n",
       "    </tr>\n",
       "  </thead>\n",
       "  <tbody>\n",
       "    <tr>\n",
       "      <th>0</th>\n",
       "      <td>Luís Figo</td>\n",
       "      <td>Right Winger</td>\n",
       "      <td>27</td>\n",
       "      <td>FC Barcelona</td>\n",
       "      <td>LaLiga</td>\n",
       "      <td>Real Madrid</td>\n",
       "      <td>LaLiga</td>\n",
       "      <td>2000-2001</td>\n",
       "      <td>60000000</td>\n",
       "    </tr>\n",
       "    <tr>\n",
       "      <th>1</th>\n",
       "      <td>Hernán Crespo</td>\n",
       "      <td>Centre-Forward</td>\n",
       "      <td>25</td>\n",
       "      <td>Parma</td>\n",
       "      <td>Serie A</td>\n",
       "      <td>Lazio</td>\n",
       "      <td>Serie A</td>\n",
       "      <td>2000-2001</td>\n",
       "      <td>56810000</td>\n",
       "    </tr>\n",
       "    <tr>\n",
       "      <th>2</th>\n",
       "      <td>Marc Overmars</td>\n",
       "      <td>Left Winger</td>\n",
       "      <td>27</td>\n",
       "      <td>Arsenal</td>\n",
       "      <td>Premier League</td>\n",
       "      <td>FC Barcelona</td>\n",
       "      <td>LaLiga</td>\n",
       "      <td>2000-2001</td>\n",
       "      <td>40000000</td>\n",
       "    </tr>\n",
       "    <tr>\n",
       "      <th>3</th>\n",
       "      <td>Gabriel Batistuta</td>\n",
       "      <td>Centre-Forward</td>\n",
       "      <td>31</td>\n",
       "      <td>Fiorentina</td>\n",
       "      <td>Serie A</td>\n",
       "      <td>AS Roma</td>\n",
       "      <td>Serie A</td>\n",
       "      <td>2000-2001</td>\n",
       "      <td>36150000</td>\n",
       "    </tr>\n",
       "    <tr>\n",
       "      <th>4</th>\n",
       "      <td>Nicolas Anelka</td>\n",
       "      <td>Centre-Forward</td>\n",
       "      <td>21</td>\n",
       "      <td>Real Madrid</td>\n",
       "      <td>LaLiga</td>\n",
       "      <td>Paris SG</td>\n",
       "      <td>Ligue 1</td>\n",
       "      <td>2000-2001</td>\n",
       "      <td>34500000</td>\n",
       "    </tr>\n",
       "    <tr>\n",
       "      <th>5</th>\n",
       "      <td>Rio Ferdinand</td>\n",
       "      <td>Centre-Back</td>\n",
       "      <td>22</td>\n",
       "      <td>West Ham</td>\n",
       "      <td>Premier League</td>\n",
       "      <td>Leeds</td>\n",
       "      <td>Premier League</td>\n",
       "      <td>2000-2001</td>\n",
       "      <td>26000000</td>\n",
       "    </tr>\n",
       "    <tr>\n",
       "      <th>6</th>\n",
       "      <td>Flávio Conceicao</td>\n",
       "      <td>Central Midfield</td>\n",
       "      <td>26</td>\n",
       "      <td>Dep. La Coruña</td>\n",
       "      <td>LaLiga</td>\n",
       "      <td>Real Madrid</td>\n",
       "      <td>LaLiga</td>\n",
       "      <td>2000-2001</td>\n",
       "      <td>25000000</td>\n",
       "    </tr>\n",
       "    <tr>\n",
       "      <th>7</th>\n",
       "      <td>Savo Milosevic</td>\n",
       "      <td>Centre-Forward</td>\n",
       "      <td>26</td>\n",
       "      <td>Real Zaragoza</td>\n",
       "      <td>LaLiga</td>\n",
       "      <td>Parma</td>\n",
       "      <td>Serie A</td>\n",
       "      <td>2000-2001</td>\n",
       "      <td>25000000</td>\n",
       "    </tr>\n",
       "    <tr>\n",
       "      <th>8</th>\n",
       "      <td>David Trézéguet</td>\n",
       "      <td>Centre-Forward</td>\n",
       "      <td>22</td>\n",
       "      <td>Monaco</td>\n",
       "      <td>Ligue 1</td>\n",
       "      <td>Juventus</td>\n",
       "      <td>Serie A</td>\n",
       "      <td>2000-2001</td>\n",
       "      <td>23240000</td>\n",
       "    </tr>\n",
       "    <tr>\n",
       "      <th>9</th>\n",
       "      <td>Claudio López</td>\n",
       "      <td>Centre-Forward</td>\n",
       "      <td>25</td>\n",
       "      <td>Valencia CF</td>\n",
       "      <td>LaLiga</td>\n",
       "      <td>Lazio</td>\n",
       "      <td>Serie A</td>\n",
       "      <td>2000-2001</td>\n",
       "      <td>23000000</td>\n",
       "    </tr>\n",
       "  </tbody>\n",
       "</table>\n",
       "</div>"
      ],
      "text/plain": [
       "                Name          Position  Age       Team_from     League_from  \\\n",
       "0          Luís Figo      Right Winger   27    FC Barcelona          LaLiga   \n",
       "1      Hernán Crespo    Centre-Forward   25           Parma         Serie A   \n",
       "2      Marc Overmars       Left Winger   27         Arsenal  Premier League   \n",
       "3  Gabriel Batistuta    Centre-Forward   31      Fiorentina         Serie A   \n",
       "4     Nicolas Anelka    Centre-Forward   21     Real Madrid          LaLiga   \n",
       "5      Rio Ferdinand       Centre-Back   22        West Ham  Premier League   \n",
       "6   Flávio Conceicao  Central Midfield   26  Dep. La Coruña          LaLiga   \n",
       "7     Savo Milosevic    Centre-Forward   26   Real Zaragoza          LaLiga   \n",
       "8    David Trézéguet    Centre-Forward   22          Monaco         Ligue 1   \n",
       "9      Claudio López    Centre-Forward   25     Valencia CF          LaLiga   \n",
       "\n",
       "        Team_to       League_to     Season  Transfer_fee  \n",
       "0   Real Madrid          LaLiga  2000-2001      60000000  \n",
       "1         Lazio         Serie A  2000-2001      56810000  \n",
       "2  FC Barcelona          LaLiga  2000-2001      40000000  \n",
       "3       AS Roma         Serie A  2000-2001      36150000  \n",
       "4      Paris SG         Ligue 1  2000-2001      34500000  \n",
       "5         Leeds  Premier League  2000-2001      26000000  \n",
       "6   Real Madrid          LaLiga  2000-2001      25000000  \n",
       "7         Parma         Serie A  2000-2001      25000000  \n",
       "8      Juventus         Serie A  2000-2001      23240000  \n",
       "9         Lazio         Serie A  2000-2001      23000000  "
      ]
     },
     "execution_count": 8,
     "metadata": {},
     "output_type": "execute_result"
    }
   ],
   "source": [
    "#display top 10 rows\n",
    "df.head(10)"
   ]
  },
  {
   "cell_type": "code",
   "execution_count": 11,
   "metadata": {},
   "outputs": [
    {
     "data": {
      "text/plain": [
       "Name            object\n",
       "Position        object\n",
       "Age              int64\n",
       "Team_from       object\n",
       "League_from     object\n",
       "Team_to         object\n",
       "League_to       object\n",
       "Season          object\n",
       "Transfer_fee     int64\n",
       "dtype: object"
      ]
     },
     "execution_count": 11,
     "metadata": {},
     "output_type": "execute_result"
    }
   ],
   "source": [
    "#define the type of dataset\n",
    "df.dtypes"
   ]
  },
  {
   "cell_type": "code",
   "execution_count": 12,
   "metadata": {},
   "outputs": [
    {
     "data": {
      "text/html": [
       "<div>\n",
       "<style scoped>\n",
       "    .dataframe tbody tr th:only-of-type {\n",
       "        vertical-align: middle;\n",
       "    }\n",
       "\n",
       "    .dataframe tbody tr th {\n",
       "        vertical-align: top;\n",
       "    }\n",
       "\n",
       "    .dataframe thead th {\n",
       "        text-align: right;\n",
       "    }\n",
       "</style>\n",
       "<table border=\"1\" class=\"dataframe\">\n",
       "  <thead>\n",
       "    <tr style=\"text-align: right;\">\n",
       "      <th></th>\n",
       "      <th>Age</th>\n",
       "      <th>Transfer_fee</th>\n",
       "    </tr>\n",
       "  </thead>\n",
       "  <tbody>\n",
       "    <tr>\n",
       "      <th>count</th>\n",
       "      <td>4700.000000</td>\n",
       "      <td>4.700000e+03</td>\n",
       "    </tr>\n",
       "    <tr>\n",
       "      <th>mean</th>\n",
       "      <td>24.338723</td>\n",
       "      <td>9.447586e+06</td>\n",
       "    </tr>\n",
       "    <tr>\n",
       "      <th>std</th>\n",
       "      <td>3.230809</td>\n",
       "      <td>1.043772e+07</td>\n",
       "    </tr>\n",
       "    <tr>\n",
       "      <th>min</th>\n",
       "      <td>0.000000</td>\n",
       "      <td>8.250000e+05</td>\n",
       "    </tr>\n",
       "    <tr>\n",
       "      <th>25%</th>\n",
       "      <td>22.000000</td>\n",
       "      <td>4.000000e+06</td>\n",
       "    </tr>\n",
       "    <tr>\n",
       "      <th>50%</th>\n",
       "      <td>24.000000</td>\n",
       "      <td>6.500000e+06</td>\n",
       "    </tr>\n",
       "    <tr>\n",
       "      <th>75%</th>\n",
       "      <td>27.000000</td>\n",
       "      <td>1.082000e+07</td>\n",
       "    </tr>\n",
       "    <tr>\n",
       "      <th>max</th>\n",
       "      <td>35.000000</td>\n",
       "      <td>2.220000e+08</td>\n",
       "    </tr>\n",
       "  </tbody>\n",
       "</table>\n",
       "</div>"
      ],
      "text/plain": [
       "               Age  Transfer_fee\n",
       "count  4700.000000  4.700000e+03\n",
       "mean     24.338723  9.447586e+06\n",
       "std       3.230809  1.043772e+07\n",
       "min       0.000000  8.250000e+05\n",
       "25%      22.000000  4.000000e+06\n",
       "50%      24.000000  6.500000e+06\n",
       "75%      27.000000  1.082000e+07\n",
       "max      35.000000  2.220000e+08"
      ]
     },
     "execution_count": 12,
     "metadata": {},
     "output_type": "execute_result"
    }
   ],
   "source": [
    "#describing the dataset\n",
    "df.describe()"
   ]
  },
  {
   "cell_type": "code",
   "execution_count": 14,
   "metadata": {},
   "outputs": [
    {
     "data": {
      "text/plain": [
       "(4700, 9)"
      ]
     },
     "execution_count": 14,
     "metadata": {},
     "output_type": "execute_result"
    }
   ],
   "source": [
    "#shape\n",
    "df.shape"
   ]
  },
  {
   "cell_type": "code",
   "execution_count": 15,
   "metadata": {},
   "outputs": [
    {
     "name": "stdout",
     "output_type": "stream",
     "text": [
      "Number of duplicate rows:  (0, 9)\n"
     ]
    }
   ],
   "source": [
    "# displaying the number of dublicate rows\n",
    "duplicate_rows_df = df[df.duplicated()]\n",
    "print(\"Number of duplicate rows: \", duplicate_rows_df.shape)"
   ]
  },
  {
   "cell_type": "code",
   "execution_count": 16,
   "metadata": {},
   "outputs": [
    {
     "data": {
      "text/plain": [
       "Name            4700\n",
       "Position        4700\n",
       "Age             4700\n",
       "Team_from       4700\n",
       "League_from     4700\n",
       "Team_to         4700\n",
       "League_to       4700\n",
       "Season          4700\n",
       "Transfer_fee    4700\n",
       "dtype: int64"
      ]
     },
     "execution_count": 16,
     "metadata": {},
     "output_type": "execute_result"
    }
   ],
   "source": [
    "#Used to count the number of rows \n",
    "df.count()"
   ]
  },
  {
   "cell_type": "code",
   "execution_count": 17,
   "metadata": {},
   "outputs": [
    {
     "data": {
      "text/html": [
       "<div>\n",
       "<style scoped>\n",
       "    .dataframe tbody tr th:only-of-type {\n",
       "        vertical-align: middle;\n",
       "    }\n",
       "\n",
       "    .dataframe tbody tr th {\n",
       "        vertical-align: top;\n",
       "    }\n",
       "\n",
       "    .dataframe thead th {\n",
       "        text-align: right;\n",
       "    }\n",
       "</style>\n",
       "<table border=\"1\" class=\"dataframe\">\n",
       "  <thead>\n",
       "    <tr style=\"text-align: right;\">\n",
       "      <th></th>\n",
       "      <th>Name</th>\n",
       "      <th>Position</th>\n",
       "      <th>Age</th>\n",
       "      <th>Team_from</th>\n",
       "      <th>League_from</th>\n",
       "      <th>Team_to</th>\n",
       "      <th>League_to</th>\n",
       "      <th>Season</th>\n",
       "      <th>Transfer_fee</th>\n",
       "    </tr>\n",
       "  </thead>\n",
       "  <tbody>\n",
       "    <tr>\n",
       "      <th>0</th>\n",
       "      <td>Luís Figo</td>\n",
       "      <td>Right Winger</td>\n",
       "      <td>27</td>\n",
       "      <td>FC Barcelona</td>\n",
       "      <td>LaLiga</td>\n",
       "      <td>Real Madrid</td>\n",
       "      <td>LaLiga</td>\n",
       "      <td>2000-2001</td>\n",
       "      <td>60000000</td>\n",
       "    </tr>\n",
       "    <tr>\n",
       "      <th>1</th>\n",
       "      <td>Hernán Crespo</td>\n",
       "      <td>Centre-Forward</td>\n",
       "      <td>25</td>\n",
       "      <td>Parma</td>\n",
       "      <td>Serie A</td>\n",
       "      <td>Lazio</td>\n",
       "      <td>Serie A</td>\n",
       "      <td>2000-2001</td>\n",
       "      <td>56810000</td>\n",
       "    </tr>\n",
       "    <tr>\n",
       "      <th>2</th>\n",
       "      <td>Marc Overmars</td>\n",
       "      <td>Left Winger</td>\n",
       "      <td>27</td>\n",
       "      <td>Arsenal</td>\n",
       "      <td>Premier League</td>\n",
       "      <td>FC Barcelona</td>\n",
       "      <td>LaLiga</td>\n",
       "      <td>2000-2001</td>\n",
       "      <td>40000000</td>\n",
       "    </tr>\n",
       "    <tr>\n",
       "      <th>3</th>\n",
       "      <td>Gabriel Batistuta</td>\n",
       "      <td>Centre-Forward</td>\n",
       "      <td>31</td>\n",
       "      <td>Fiorentina</td>\n",
       "      <td>Serie A</td>\n",
       "      <td>AS Roma</td>\n",
       "      <td>Serie A</td>\n",
       "      <td>2000-2001</td>\n",
       "      <td>36150000</td>\n",
       "    </tr>\n",
       "    <tr>\n",
       "      <th>4</th>\n",
       "      <td>Nicolas Anelka</td>\n",
       "      <td>Centre-Forward</td>\n",
       "      <td>21</td>\n",
       "      <td>Real Madrid</td>\n",
       "      <td>LaLiga</td>\n",
       "      <td>Paris SG</td>\n",
       "      <td>Ligue 1</td>\n",
       "      <td>2000-2001</td>\n",
       "      <td>34500000</td>\n",
       "    </tr>\n",
       "    <tr>\n",
       "      <th>5</th>\n",
       "      <td>Rio Ferdinand</td>\n",
       "      <td>Centre-Back</td>\n",
       "      <td>22</td>\n",
       "      <td>West Ham</td>\n",
       "      <td>Premier League</td>\n",
       "      <td>Leeds</td>\n",
       "      <td>Premier League</td>\n",
       "      <td>2000-2001</td>\n",
       "      <td>26000000</td>\n",
       "    </tr>\n",
       "    <tr>\n",
       "      <th>6</th>\n",
       "      <td>Flávio Conceicao</td>\n",
       "      <td>Central Midfield</td>\n",
       "      <td>26</td>\n",
       "      <td>Dep. La Coruña</td>\n",
       "      <td>LaLiga</td>\n",
       "      <td>Real Madrid</td>\n",
       "      <td>LaLiga</td>\n",
       "      <td>2000-2001</td>\n",
       "      <td>25000000</td>\n",
       "    </tr>\n",
       "    <tr>\n",
       "      <th>7</th>\n",
       "      <td>Savo Milosevic</td>\n",
       "      <td>Centre-Forward</td>\n",
       "      <td>26</td>\n",
       "      <td>Real Zaragoza</td>\n",
       "      <td>LaLiga</td>\n",
       "      <td>Parma</td>\n",
       "      <td>Serie A</td>\n",
       "      <td>2000-2001</td>\n",
       "      <td>25000000</td>\n",
       "    </tr>\n",
       "    <tr>\n",
       "      <th>8</th>\n",
       "      <td>David Trézéguet</td>\n",
       "      <td>Centre-Forward</td>\n",
       "      <td>22</td>\n",
       "      <td>Monaco</td>\n",
       "      <td>Ligue 1</td>\n",
       "      <td>Juventus</td>\n",
       "      <td>Serie A</td>\n",
       "      <td>2000-2001</td>\n",
       "      <td>23240000</td>\n",
       "    </tr>\n",
       "    <tr>\n",
       "      <th>9</th>\n",
       "      <td>Claudio López</td>\n",
       "      <td>Centre-Forward</td>\n",
       "      <td>25</td>\n",
       "      <td>Valencia CF</td>\n",
       "      <td>LaLiga</td>\n",
       "      <td>Lazio</td>\n",
       "      <td>Serie A</td>\n",
       "      <td>2000-2001</td>\n",
       "      <td>23000000</td>\n",
       "    </tr>\n",
       "  </tbody>\n",
       "</table>\n",
       "</div>"
      ],
      "text/plain": [
       "                Name          Position  Age       Team_from     League_from  \\\n",
       "0          Luís Figo      Right Winger   27    FC Barcelona          LaLiga   \n",
       "1      Hernán Crespo    Centre-Forward   25           Parma         Serie A   \n",
       "2      Marc Overmars       Left Winger   27         Arsenal  Premier League   \n",
       "3  Gabriel Batistuta    Centre-Forward   31      Fiorentina         Serie A   \n",
       "4     Nicolas Anelka    Centre-Forward   21     Real Madrid          LaLiga   \n",
       "5      Rio Ferdinand       Centre-Back   22        West Ham  Premier League   \n",
       "6   Flávio Conceicao  Central Midfield   26  Dep. La Coruña          LaLiga   \n",
       "7     Savo Milosevic    Centre-Forward   26   Real Zaragoza          LaLiga   \n",
       "8    David Trézéguet    Centre-Forward   22          Monaco         Ligue 1   \n",
       "9      Claudio López    Centre-Forward   25     Valencia CF          LaLiga   \n",
       "\n",
       "        Team_to       League_to     Season  Transfer_fee  \n",
       "0   Real Madrid          LaLiga  2000-2001      60000000  \n",
       "1         Lazio         Serie A  2000-2001      56810000  \n",
       "2  FC Barcelona          LaLiga  2000-2001      40000000  \n",
       "3       AS Roma         Serie A  2000-2001      36150000  \n",
       "4      Paris SG         Ligue 1  2000-2001      34500000  \n",
       "5         Leeds  Premier League  2000-2001      26000000  \n",
       "6   Real Madrid          LaLiga  2000-2001      25000000  \n",
       "7         Parma         Serie A  2000-2001      25000000  \n",
       "8      Juventus         Serie A  2000-2001      23240000  \n",
       "9         Lazio         Serie A  2000-2001      23000000  "
      ]
     },
     "execution_count": 17,
     "metadata": {},
     "output_type": "execute_result"
    }
   ],
   "source": [
    "#dropping the dublicate values\n",
    "df = df.drop_duplicates()\n",
    "df.head(10)"
   ]
  },
  {
   "cell_type": "code",
   "execution_count": 18,
   "metadata": {},
   "outputs": [
    {
     "data": {
      "text/plain": [
       "Name            4700\n",
       "Position        4700\n",
       "Age             4700\n",
       "Team_from       4700\n",
       "League_from     4700\n",
       "Team_to         4700\n",
       "League_to       4700\n",
       "Season          4700\n",
       "Transfer_fee    4700\n",
       "dtype: int64"
      ]
     },
     "execution_count": 18,
     "metadata": {},
     "output_type": "execute_result"
    }
   ],
   "source": [
    "#showing count\n",
    "df.count()"
   ]
  },
  {
   "cell_type": "code",
   "execution_count": 21,
   "metadata": {},
   "outputs": [
    {
     "name": "stdout",
     "output_type": "stream",
     "text": [
      "Name            0\n",
      "Position        0\n",
      "Age             0\n",
      "Team_from       0\n",
      "League_from     0\n",
      "Team_to         0\n",
      "League_to       0\n",
      "Season          0\n",
      "Transfer_fee    0\n",
      "dtype: int64\n"
     ]
    }
   ],
   "source": [
    "#showing the null values in dataset\n",
    "print(df.isnull().sum())"
   ]
  },
  {
   "cell_type": "code",
   "execution_count": 23,
   "metadata": {},
   "outputs": [],
   "source": [
    "#dropping null values\n",
    "df = df.dropna()"
   ]
  },
  {
   "cell_type": "code",
   "execution_count": 24,
   "metadata": {},
   "outputs": [
    {
     "data": {
      "text/plain": [
       "Name            4700\n",
       "Position        4700\n",
       "Age             4700\n",
       "Team_from       4700\n",
       "League_from     4700\n",
       "Team_to         4700\n",
       "League_to       4700\n",
       "Season          4700\n",
       "Transfer_fee    4700\n",
       "dtype: int64"
      ]
     },
     "execution_count": 24,
     "metadata": {},
     "output_type": "execute_result"
    }
   ],
   "source": [
    "#data after dropping null values\n",
    "df.count()"
   ]
  },
  {
   "cell_type": "code",
   "execution_count": 25,
   "metadata": {},
   "outputs": [
    {
     "name": "stdout",
     "output_type": "stream",
     "text": [
      "Position  Attacking Midfield  Central Midfield  Centre-Back  Centre-Forward  \\\n",
      "Age                                                                           \n",
      "0                          0                 0            0               1   \n",
      "15                         0                 1            0               0   \n",
      "16                         2                 2            1               1   \n",
      "17                         2                 2            3               6   \n",
      "18                        15                 9           10              20   \n",
      "19                        11                23           20              41   \n",
      "20                        32                39           35              68   \n",
      "21                        42                45           54              91   \n",
      "22                        36                48           87             120   \n",
      "23                        37                62           85             112   \n",
      "24                        56                55           82             142   \n",
      "25                        34                47           73             148   \n",
      "26                        52                53           73             128   \n",
      "27                        33                34           74             115   \n",
      "28                        26                30           45              91   \n",
      "29                        23                21           31              56   \n",
      "30                        14                11           22              47   \n",
      "31                         7                 4            7              19   \n",
      "32                         3                 1            8               9   \n",
      "33                         1                 0            3               2   \n",
      "34                         0                 0            1               1   \n",
      "35                         0                 0            0               0   \n",
      "\n",
      "Position  Defender  Defensive Midfield  Forward  Goalkeeper  Left Midfield  \\\n",
      "Age                                                                          \n",
      "0                0                   0        0           0              0   \n",
      "15               0                   0        0           0              0   \n",
      "16               0                   0        0           0              0   \n",
      "17               1                   2        0           1              0   \n",
      "18               0                   4        0           0              0   \n",
      "19               0                  11        0           6              3   \n",
      "20               0                  26        0           6              2   \n",
      "21               0                  29        0           7              3   \n",
      "22               0                  39        0          12             10   \n",
      "23               0                  51        0          16             10   \n",
      "24               0                  41        0          11              5   \n",
      "25               0                  53        1          25             11   \n",
      "26               0                  41        0          17             15   \n",
      "27               0                  30        0          20              2   \n",
      "28               0                  29        2          16             12   \n",
      "29               0                  27        0          11              7   \n",
      "30               0                  17        0          11              4   \n",
      "31               0                   6        0           6              1   \n",
      "32               0                   2        0           3              1   \n",
      "33               0                   2        0           7              0   \n",
      "34               0                   1        0           2              0   \n",
      "35               0                   0        0           3              1   \n",
      "\n",
      "Position  Left Winger  Left-Back  Midfielder  Right Midfield  Right Winger  \\\n",
      "Age                                                                          \n",
      "0                   0          0           0               0             0   \n",
      "15                  0          0           0               0             0   \n",
      "16                  1          1           0               0             2   \n",
      "17                  3          0           0               1             2   \n",
      "18                 10          4           0               0             4   \n",
      "19                 12          5           0               1            20   \n",
      "20                 29         16           0               3            25   \n",
      "21                 32         22           0               6            22   \n",
      "22                 26         21           0               2            33   \n",
      "23                 26         28           0               6            41   \n",
      "24                 33         30           0              11            35   \n",
      "25                 18         23           0              10            36   \n",
      "26                 20         17           0               2            30   \n",
      "27                 18         27           1               4            24   \n",
      "28                 19         14           0               8            11   \n",
      "29                 13         10           0               4            13   \n",
      "30                  5          7           0               4             7   \n",
      "31                  1          0           0               1             0   \n",
      "32                  1          0           0               0             0   \n",
      "33                  0          0           0               0             0   \n",
      "34                  0          0           0               0             0   \n",
      "35                  0          0           0               0             0   \n",
      "\n",
      "Position  Right-Back  Second Striker  Sweeper  \n",
      "Age                                            \n",
      "0                  0               0        0  \n",
      "15                 0               0        0  \n",
      "16                 0               0        0  \n",
      "17                 0               0        0  \n",
      "18                 3               3        0  \n",
      "19                 5               7        0  \n",
      "20                12               9        0  \n",
      "21                12               6        0  \n",
      "22                15              12        0  \n",
      "23                30              15        0  \n",
      "24                21              14        0  \n",
      "25                30              15        0  \n",
      "26                17              15        1  \n",
      "27                14               8        0  \n",
      "28                12              12        0  \n",
      "29                 3               4        0  \n",
      "30                 3               5        0  \n",
      "31                 4               3        0  \n",
      "32                 0               2        0  \n",
      "33                 0               0        0  \n",
      "34                 0               0        0  \n",
      "35                 0               0        0  \n"
     ]
    }
   ],
   "source": [
    "#crosstab between age and position of a player\n",
    "df_crosstab = pd.crosstab(df['Age'],\n",
    "                            df['Position'], \n",
    "                               margins = False)\n",
    "print(df_crosstab)\n"
   ]
  },
  {
   "cell_type": "code",
   "execution_count": 26,
   "metadata": {},
   "outputs": [],
   "source": [
    "#simple stats fo the data\n",
    "mean1 = df['Age'].mean()\n",
    "sum1 = df['Age'].sum()\n",
    "max1 = df['Age'].max()\n",
    "min1 = df['Age'].min()\n",
    "count1 = df['Age'].count()\n",
    "median1 = df['Age'].median() \n",
    "std1 = df['Age'].std() \n",
    "var1 = df['Age'].var() "
   ]
  },
  {
   "cell_type": "code",
   "execution_count": 27,
   "metadata": {},
   "outputs": [
    {
     "name": "stdout",
     "output_type": "stream",
     "text": [
      "Mean Age: 24.33872340425532\n",
      "Sum of Age: 114392\n",
      "Max Age: 35\n",
      "Min Age: 0\n",
      "Count of Age: 4700\n",
      "Median Age: 24.0\n",
      "Std of Age: 3.230808819951418\n",
      "Var of Age: 10.438125631075874\n"
     ]
    }
   ],
   "source": [
    "#printing the above block\n",
    "print ('Mean Age: ' + str(mean1))\n",
    "print ('Sum of Age: ' + str(sum1))\n",
    "print ('Max Age: ' + str(max1))\n",
    "print ('Min Age: ' + str(min1))\n",
    "print ('Count of Age: ' + str(count1))\n",
    "print ('Median Age: ' + str(median1))\n",
    "print ('Std of Age: ' + str(std1))\n",
    "print ('Var of Age: ' + str(var1))"
   ]
  },
  {
   "cell_type": "code",
   "execution_count": 28,
   "metadata": {},
   "outputs": [],
   "source": [
    "#group by\n",
    "groupby_sum1 = df.groupby(['Age']).sum() \n",
    "groupby_count1 = df.groupby(['Age']).count()"
   ]
  },
  {
   "cell_type": "code",
   "execution_count": 29,
   "metadata": {},
   "outputs": [
    {
     "name": "stdout",
     "output_type": "stream",
     "text": [
      "Sum of values, grouped by the Age:      Transfer_fee\n",
      "Age              \n",
      "0         2000000\n",
      "15        3200000\n",
      "16       80700000\n",
      "17      143640000\n",
      "18      743810000\n",
      "19     1565160000\n",
      "20     2724840000\n",
      "21     3428255000\n",
      "22     4110520000\n",
      "23     5042080000\n",
      "24     5407570000\n",
      "25     5195030000\n",
      "26     4530580000\n",
      "27     4297980000\n",
      "28     2998540000\n",
      "29     2157520000\n",
      "30     1171590000\n",
      "31      421490000\n",
      "32      152100000\n",
      "33      195600000\n",
      "34       16400000\n",
      "35       15050000\n"
     ]
    }
   ],
   "source": [
    "print ('Sum of values, grouped by the Age: ' + str(groupby_sum1))"
   ]
  },
  {
   "cell_type": "code",
   "execution_count": 30,
   "metadata": {},
   "outputs": [
    {
     "name": "stderr",
     "output_type": "stream",
     "text": [
      "C:\\Users\\hp\\AppData\\Local\\Temp\\ipykernel_7668\\2546390060.py:1: FutureWarning: Dropping of nuisance columns in DataFrame reductions (with 'numeric_only=None') is deprecated; in a future version this will raise TypeError.  Select only valid columns before calling the reduction.\n",
      "  df.skew(axis = 1, skipna = True)\n"
     ]
    },
    {
     "data": {
      "text/plain": [
       "0      NaN\n",
       "1      NaN\n",
       "2      NaN\n",
       "3      NaN\n",
       "4      NaN\n",
       "        ..\n",
       "4695   NaN\n",
       "4696   NaN\n",
       "4697   NaN\n",
       "4698   NaN\n",
       "4699   NaN\n",
       "Length: 4700, dtype: float64"
      ]
     },
     "execution_count": 30,
     "metadata": {},
     "output_type": "execute_result"
    }
   ],
   "source": [
    "df.skew(axis = 1, skipna = True)"
   ]
  },
  {
   "cell_type": "code",
   "execution_count": 31,
   "metadata": {},
   "outputs": [
    {
     "name": "stdout",
     "output_type": "stream",
     "text": [
      "0.03393606676809901\n",
      "0.23885985697477352\n",
      "0.23885985697477352\n"
     ]
    }
   ],
   "source": [
    "print(df['Age'].astype(float).skew()) \n",
    "#skew of age\n",
    "print(df['Age'].astype(float).kurt())\n",
    "#kurt of age\n",
    "print(df['Age'].astype(float).kurtosis())\n",
    "#kurtosis of age"
   ]
  },
  {
   "cell_type": "code",
   "execution_count": 32,
   "metadata": {},
   "outputs": [],
   "source": [
    "absolute_frequencies = df['Age'].value_counts()\n",
    "relative_frequencies = df['Age'].value_counts(normalize=True)"
   ]
  },
  {
   "cell_type": "code",
   "execution_count": 33,
   "metadata": {},
   "outputs": [
    {
     "data": {
      "text/plain": [
       "24    536\n",
       "25    524\n",
       "23    519\n",
       "26    481\n",
       "22    461\n",
       "27    404\n",
       "21    371\n",
       "28    327\n",
       "20    302\n",
       "29    223\n",
       "19    165\n",
       "30    157\n",
       "18     82\n",
       "31     59\n",
       "32     30\n",
       "17     23\n",
       "33     15\n",
       "16     10\n",
       "34      5\n",
       "35      4\n",
       "0       1\n",
       "15      1\n",
       "Name: Age, dtype: int64"
      ]
     },
     "execution_count": 33,
     "metadata": {},
     "output_type": "execute_result"
    }
   ],
   "source": [
    "absolute_frequencies"
   ]
  },
  {
   "cell_type": "code",
   "execution_count": 34,
   "metadata": {},
   "outputs": [
    {
     "data": {
      "text/plain": [
       "24    0.114043\n",
       "25    0.111489\n",
       "23    0.110426\n",
       "26    0.102340\n",
       "22    0.098085\n",
       "27    0.085957\n",
       "21    0.078936\n",
       "28    0.069574\n",
       "20    0.064255\n",
       "29    0.047447\n",
       "19    0.035106\n",
       "30    0.033404\n",
       "18    0.017447\n",
       "31    0.012553\n",
       "32    0.006383\n",
       "17    0.004894\n",
       "33    0.003191\n",
       "16    0.002128\n",
       "34    0.001064\n",
       "35    0.000851\n",
       "0     0.000213\n",
       "15    0.000213\n",
       "Name: Age, dtype: float64"
      ]
     },
     "execution_count": 34,
     "metadata": {},
     "output_type": "execute_result"
    }
   ],
   "source": [
    "relative_frequencies"
   ]
  },
  {
   "cell_type": "code",
   "execution_count": 35,
   "metadata": {},
   "outputs": [
    {
     "name": "stdout",
     "output_type": "stream",
     "text": [
      "\n",
      "After sorting(ordered array):\n",
      "                     Name          Position  Age        Team_from  \\\n",
      "112   José Luis Chilavert        Goalkeeper   35  Vélez Sarsfield   \n",
      "487      Claudio Taffarel        Goalkeeper   35      Galatasaray   \n",
      "2954           Shay Given        Goalkeeper   35         Man City   \n",
      "2414           Zé Roberto     Left Midfield   35         Nacional   \n",
      "1179       Sonny Anderson    Centre-Forward   34    Villarreal CF   \n",
      "...                   ...               ...  ...              ...   \n",
      "4273      Pietro Pellegri    Centre-Forward   16            Genoa   \n",
      "1306    Slobodan Rajkovic       Centre-Back   16      OFK Beograd   \n",
      "1254         Theo Walcott      Right Winger   16      Southampton   \n",
      "1370          Fran Mérida  Central Midfield   15   Barcelona Yth.   \n",
      "236     Marzouq Al-Otaibi    Centre-Forward    0           Shabab   \n",
      "\n",
      "           League_from        Team_to       League_to     Season  Transfer_fee  \n",
      "112          Argentina  R. Strasbourg         Ligue 1  2000-2001       5300000  \n",
      "487          Süper Lig          Parma         Serie A  2001-2002       2000000  \n",
      "2954    Premier League    Aston Villa  Premier League  2011-2012       3750000  \n",
      "2414  Primera División   Hamburger SV    1.Bundesliga  2009-2010       4000000  \n",
      "1179            LaLiga      Al Rayyan           Qatar  2004-2005       2000000  \n",
      "...                ...            ...             ...        ...           ...  \n",
      "4273           Serie A         Monaco         Ligue 1  2017-2018      21000000  \n",
      "1306         SuperLiga        Chelsea  Premier League  2005-2006       5200000  \n",
      "1254      Championship        Arsenal  Premier League  2005-2006      10500000  \n",
      "1370             Spain    Arsenal U18         England  2005-2006       3200000  \n",
      "236       Saudi Arabia        Ittihad    Saudi Arabia  2000-2001       2000000  \n",
      "\n",
      "[4700 rows x 9 columns]\n"
     ]
    }
   ],
   "source": [
    "# sort data frame\n",
    "df.sort_values([\"Age\"], \n",
    "                    axis=0,\n",
    "                    ascending=[False], \n",
    "                    inplace=True)\n",
    "  \n",
    "# displaying sorted data frame\n",
    "print(\"\\nAfter sorting(ordered array):\")\n",
    "print(df)"
   ]
  }
 ],
 "metadata": {
  "kernelspec": {
   "display_name": "Python 3.10.8 64-bit (microsoft store)",
   "language": "python",
   "name": "python3"
  },
  "language_info": {
   "codemirror_mode": {
    "name": "ipython",
    "version": 3
   },
   "file_extension": ".py",
   "mimetype": "text/x-python",
   "name": "python",
   "nbconvert_exporter": "python",
   "pygments_lexer": "ipython3",
   "version": "3.10.8"
  },
  "orig_nbformat": 4,
  "vscode": {
   "interpreter": {
    "hash": "ba37d69516b96b2df66115ef342e83722e1a1518f5d2e0ee41eb08141fa2fe2a"
   }
  }
 },
 "nbformat": 4,
 "nbformat_minor": 2
}
